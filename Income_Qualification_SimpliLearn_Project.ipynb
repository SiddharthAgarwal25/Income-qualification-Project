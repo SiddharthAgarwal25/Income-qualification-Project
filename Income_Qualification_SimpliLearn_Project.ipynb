{
 "cells": [
  {
   "cell_type": "markdown",
   "metadata": {},
   "source": [
    "# Income Qualification Problem"
   ]
  },
  {
   "cell_type": "code",
   "execution_count": 1,
   "metadata": {},
   "outputs": [],
   "source": [
    "import pandas as pd\n",
    "import numpy as np\n",
    "import matplotlib.pyplot as plt\n",
    "import os\n",
    "import seaborn as sns\n",
    "%matplotlib inline"
   ]
  },
  {
   "cell_type": "code",
   "execution_count": 2,
   "metadata": {},
   "outputs": [
    {
     "data": {
      "text/html": [
       "<div>\n",
       "<style scoped>\n",
       "    .dataframe tbody tr th:only-of-type {\n",
       "        vertical-align: middle;\n",
       "    }\n",
       "\n",
       "    .dataframe tbody tr th {\n",
       "        vertical-align: top;\n",
       "    }\n",
       "\n",
       "    .dataframe thead th {\n",
       "        text-align: right;\n",
       "    }\n",
       "</style>\n",
       "<table border=\"1\" class=\"dataframe\">\n",
       "  <thead>\n",
       "    <tr style=\"text-align: right;\">\n",
       "      <th></th>\n",
       "      <th>Id</th>\n",
       "      <th>v2a1</th>\n",
       "      <th>hacdor</th>\n",
       "      <th>rooms</th>\n",
       "      <th>hacapo</th>\n",
       "      <th>v14a</th>\n",
       "      <th>refrig</th>\n",
       "      <th>v18q</th>\n",
       "      <th>v18q1</th>\n",
       "      <th>r4h1</th>\n",
       "      <th>...</th>\n",
       "      <th>SQBescolari</th>\n",
       "      <th>SQBage</th>\n",
       "      <th>SQBhogar_total</th>\n",
       "      <th>SQBedjefe</th>\n",
       "      <th>SQBhogar_nin</th>\n",
       "      <th>SQBovercrowding</th>\n",
       "      <th>SQBdependency</th>\n",
       "      <th>SQBmeaned</th>\n",
       "      <th>agesq</th>\n",
       "      <th>Target</th>\n",
       "    </tr>\n",
       "  </thead>\n",
       "  <tbody>\n",
       "    <tr>\n",
       "      <th>0</th>\n",
       "      <td>ID_279628684</td>\n",
       "      <td>190000.0</td>\n",
       "      <td>0</td>\n",
       "      <td>3</td>\n",
       "      <td>0</td>\n",
       "      <td>1</td>\n",
       "      <td>1</td>\n",
       "      <td>0</td>\n",
       "      <td>NaN</td>\n",
       "      <td>0</td>\n",
       "      <td>...</td>\n",
       "      <td>100</td>\n",
       "      <td>1849</td>\n",
       "      <td>1</td>\n",
       "      <td>100</td>\n",
       "      <td>0</td>\n",
       "      <td>1.000000</td>\n",
       "      <td>0.0</td>\n",
       "      <td>100.0</td>\n",
       "      <td>1849</td>\n",
       "      <td>4</td>\n",
       "    </tr>\n",
       "    <tr>\n",
       "      <th>1</th>\n",
       "      <td>ID_f29eb3ddd</td>\n",
       "      <td>135000.0</td>\n",
       "      <td>0</td>\n",
       "      <td>4</td>\n",
       "      <td>0</td>\n",
       "      <td>1</td>\n",
       "      <td>1</td>\n",
       "      <td>1</td>\n",
       "      <td>1.0</td>\n",
       "      <td>0</td>\n",
       "      <td>...</td>\n",
       "      <td>144</td>\n",
       "      <td>4489</td>\n",
       "      <td>1</td>\n",
       "      <td>144</td>\n",
       "      <td>0</td>\n",
       "      <td>1.000000</td>\n",
       "      <td>64.0</td>\n",
       "      <td>144.0</td>\n",
       "      <td>4489</td>\n",
       "      <td>4</td>\n",
       "    </tr>\n",
       "    <tr>\n",
       "      <th>2</th>\n",
       "      <td>ID_68de51c94</td>\n",
       "      <td>NaN</td>\n",
       "      <td>0</td>\n",
       "      <td>8</td>\n",
       "      <td>0</td>\n",
       "      <td>1</td>\n",
       "      <td>1</td>\n",
       "      <td>0</td>\n",
       "      <td>NaN</td>\n",
       "      <td>0</td>\n",
       "      <td>...</td>\n",
       "      <td>121</td>\n",
       "      <td>8464</td>\n",
       "      <td>1</td>\n",
       "      <td>0</td>\n",
       "      <td>0</td>\n",
       "      <td>0.250000</td>\n",
       "      <td>64.0</td>\n",
       "      <td>121.0</td>\n",
       "      <td>8464</td>\n",
       "      <td>4</td>\n",
       "    </tr>\n",
       "    <tr>\n",
       "      <th>3</th>\n",
       "      <td>ID_d671db89c</td>\n",
       "      <td>180000.0</td>\n",
       "      <td>0</td>\n",
       "      <td>5</td>\n",
       "      <td>0</td>\n",
       "      <td>1</td>\n",
       "      <td>1</td>\n",
       "      <td>1</td>\n",
       "      <td>1.0</td>\n",
       "      <td>0</td>\n",
       "      <td>...</td>\n",
       "      <td>81</td>\n",
       "      <td>289</td>\n",
       "      <td>16</td>\n",
       "      <td>121</td>\n",
       "      <td>4</td>\n",
       "      <td>1.777778</td>\n",
       "      <td>1.0</td>\n",
       "      <td>121.0</td>\n",
       "      <td>289</td>\n",
       "      <td>4</td>\n",
       "    </tr>\n",
       "    <tr>\n",
       "      <th>4</th>\n",
       "      <td>ID_d56d6f5f5</td>\n",
       "      <td>180000.0</td>\n",
       "      <td>0</td>\n",
       "      <td>5</td>\n",
       "      <td>0</td>\n",
       "      <td>1</td>\n",
       "      <td>1</td>\n",
       "      <td>1</td>\n",
       "      <td>1.0</td>\n",
       "      <td>0</td>\n",
       "      <td>...</td>\n",
       "      <td>121</td>\n",
       "      <td>1369</td>\n",
       "      <td>16</td>\n",
       "      <td>121</td>\n",
       "      <td>4</td>\n",
       "      <td>1.777778</td>\n",
       "      <td>1.0</td>\n",
       "      <td>121.0</td>\n",
       "      <td>1369</td>\n",
       "      <td>4</td>\n",
       "    </tr>\n",
       "  </tbody>\n",
       "</table>\n",
       "<p>5 rows × 143 columns</p>\n",
       "</div>"
      ],
      "text/plain": [
       "             Id      v2a1  hacdor  rooms  hacapo  v14a  refrig  v18q  v18q1  \\\n",
       "0  ID_279628684  190000.0       0      3       0     1       1     0    NaN   \n",
       "1  ID_f29eb3ddd  135000.0       0      4       0     1       1     1    1.0   \n",
       "2  ID_68de51c94       NaN       0      8       0     1       1     0    NaN   \n",
       "3  ID_d671db89c  180000.0       0      5       0     1       1     1    1.0   \n",
       "4  ID_d56d6f5f5  180000.0       0      5       0     1       1     1    1.0   \n",
       "\n",
       "   r4h1  ...  SQBescolari  SQBage  SQBhogar_total  SQBedjefe  SQBhogar_nin  \\\n",
       "0     0  ...          100    1849               1        100             0   \n",
       "1     0  ...          144    4489               1        144             0   \n",
       "2     0  ...          121    8464               1          0             0   \n",
       "3     0  ...           81     289              16        121             4   \n",
       "4     0  ...          121    1369              16        121             4   \n",
       "\n",
       "   SQBovercrowding  SQBdependency  SQBmeaned  agesq  Target  \n",
       "0         1.000000            0.0      100.0   1849       4  \n",
       "1         1.000000           64.0      144.0   4489       4  \n",
       "2         0.250000           64.0      121.0   8464       4  \n",
       "3         1.777778            1.0      121.0    289       4  \n",
       "4         1.777778            1.0      121.0   1369       4  \n",
       "\n",
       "[5 rows x 143 columns]"
      ]
     },
     "execution_count": 2,
     "metadata": {},
     "output_type": "execute_result"
    }
   ],
   "source": [
    "train_dataset = pd.read_csv('train.csv')\n",
    "test_dataset = pd.read_csv('test.csv')\n",
    "train_dataset.head()"
   ]
  },
  {
   "cell_type": "code",
   "execution_count": 3,
   "metadata": {},
   "outputs": [
    {
     "name": "stdout",
     "output_type": "stream",
     "text": [
      "Income Qualification training dataset shape: (9557, 143)\n",
      "Income Qualification testing dataset shape: (23856, 142)\n"
     ]
    }
   ],
   "source": [
    "# Dataset Shapes\n",
    "print('Income Qualification training dataset shape:', train_dataset.shape)\n",
    "print('Income Qualification testing dataset shape:', test_dataset.shape)"
   ]
  },
  {
   "cell_type": "markdown",
   "metadata": {},
   "source": [
    "### Q1. Identify the output variable"
   ]
  },
  {
   "cell_type": "code",
   "execution_count": 4,
   "metadata": {},
   "outputs": [
    {
     "name": "stdout",
     "output_type": "stream",
     "text": [
      "Target Column: Target\n"
     ]
    }
   ],
   "source": [
    "for column in train_dataset.columns:\n",
    "    if column not in test_dataset.columns:\n",
    "            print('Target Column:', column)"
   ]
  },
  {
   "cell_type": "markdown",
   "metadata": {},
   "source": [
    "#### Target Column\n",
    "\n",
    "The target column contains integer values between 1 to 4 and the distribution of the sample is unbalanced. We have way more '4's than '1's. Unbalanced datasets are a challenge to the machine learning models"
   ]
  },
  {
   "cell_type": "code",
   "execution_count": 5,
   "metadata": {},
   "outputs": [
    {
     "data": {
      "text/plain": [
       "4    5996\n",
       "2    1597\n",
       "3    1209\n",
       "1     755\n",
       "Name: Target, dtype: int64"
      ]
     },
     "execution_count": 5,
     "metadata": {},
     "output_type": "execute_result"
    }
   ],
   "source": [
    "train_dataset['Target'].value_counts()"
   ]
  },
  {
   "cell_type": "markdown",
   "metadata": {},
   "source": [
    "### Q2. Understand the type of data."
   ]
  },
  {
   "cell_type": "code",
   "execution_count": 6,
   "metadata": {},
   "outputs": [
    {
     "data": {
      "text/plain": [
       "int64      130\n",
       "float64      8\n",
       "object       5\n",
       "dtype: int64"
      ]
     },
     "execution_count": 6,
     "metadata": {},
     "output_type": "execute_result"
    }
   ],
   "source": [
    "train_dataset.dtypes.value_counts()"
   ]
  },
  {
   "cell_type": "markdown",
   "metadata": {},
   "source": [
    "#### The training dataset contains 130 integer type columns, 8 floating point type and 5 object type. Let us first look at the object type and floating point"
   ]
  },
  {
   "cell_type": "markdown",
   "metadata": {},
   "source": [
    "#### Float Type Columns"
   ]
  },
  {
   "cell_type": "code",
   "execution_count": 7,
   "metadata": {},
   "outputs": [
    {
     "data": {
      "text/html": [
       "<div>\n",
       "<style scoped>\n",
       "    .dataframe tbody tr th:only-of-type {\n",
       "        vertical-align: middle;\n",
       "    }\n",
       "\n",
       "    .dataframe tbody tr th {\n",
       "        vertical-align: top;\n",
       "    }\n",
       "\n",
       "    .dataframe thead th {\n",
       "        text-align: right;\n",
       "    }\n",
       "</style>\n",
       "<table border=\"1\" class=\"dataframe\">\n",
       "  <thead>\n",
       "    <tr style=\"text-align: right;\">\n",
       "      <th></th>\n",
       "      <th>v2a1</th>\n",
       "      <th>v18q1</th>\n",
       "      <th>rez_esc</th>\n",
       "      <th>meaneduc</th>\n",
       "      <th>overcrowding</th>\n",
       "      <th>SQBovercrowding</th>\n",
       "      <th>SQBdependency</th>\n",
       "      <th>SQBmeaned</th>\n",
       "    </tr>\n",
       "  </thead>\n",
       "  <tbody>\n",
       "    <tr>\n",
       "      <th>0</th>\n",
       "      <td>190000.0</td>\n",
       "      <td>NaN</td>\n",
       "      <td>NaN</td>\n",
       "      <td>10.0</td>\n",
       "      <td>1.000000</td>\n",
       "      <td>1.000000</td>\n",
       "      <td>0.0</td>\n",
       "      <td>100.0</td>\n",
       "    </tr>\n",
       "    <tr>\n",
       "      <th>1</th>\n",
       "      <td>135000.0</td>\n",
       "      <td>1.0</td>\n",
       "      <td>NaN</td>\n",
       "      <td>12.0</td>\n",
       "      <td>1.000000</td>\n",
       "      <td>1.000000</td>\n",
       "      <td>64.0</td>\n",
       "      <td>144.0</td>\n",
       "    </tr>\n",
       "    <tr>\n",
       "      <th>2</th>\n",
       "      <td>NaN</td>\n",
       "      <td>NaN</td>\n",
       "      <td>NaN</td>\n",
       "      <td>11.0</td>\n",
       "      <td>0.500000</td>\n",
       "      <td>0.250000</td>\n",
       "      <td>64.0</td>\n",
       "      <td>121.0</td>\n",
       "    </tr>\n",
       "    <tr>\n",
       "      <th>3</th>\n",
       "      <td>180000.0</td>\n",
       "      <td>1.0</td>\n",
       "      <td>1.0</td>\n",
       "      <td>11.0</td>\n",
       "      <td>1.333333</td>\n",
       "      <td>1.777778</td>\n",
       "      <td>1.0</td>\n",
       "      <td>121.0</td>\n",
       "    </tr>\n",
       "    <tr>\n",
       "      <th>4</th>\n",
       "      <td>180000.0</td>\n",
       "      <td>1.0</td>\n",
       "      <td>NaN</td>\n",
       "      <td>11.0</td>\n",
       "      <td>1.333333</td>\n",
       "      <td>1.777778</td>\n",
       "      <td>1.0</td>\n",
       "      <td>121.0</td>\n",
       "    </tr>\n",
       "  </tbody>\n",
       "</table>\n",
       "</div>"
      ],
      "text/plain": [
       "       v2a1  v18q1  rez_esc  meaneduc  overcrowding  SQBovercrowding  \\\n",
       "0  190000.0    NaN      NaN      10.0      1.000000         1.000000   \n",
       "1  135000.0    1.0      NaN      12.0      1.000000         1.000000   \n",
       "2       NaN    NaN      NaN      11.0      0.500000         0.250000   \n",
       "3  180000.0    1.0      1.0      11.0      1.333333         1.777778   \n",
       "4  180000.0    1.0      NaN      11.0      1.333333         1.777778   \n",
       "\n",
       "   SQBdependency  SQBmeaned  \n",
       "0            0.0      100.0  \n",
       "1           64.0      144.0  \n",
       "2           64.0      121.0  \n",
       "3            1.0      121.0  \n",
       "4            1.0      121.0  "
      ]
     },
     "execution_count": 7,
     "metadata": {},
     "output_type": "execute_result"
    }
   ],
   "source": [
    "#Floating point columns\n",
    "\n",
    "float_df = train_dataset.select_dtypes(include=['float64'])\n",
    "float_df.head()"
   ]
  },
  {
   "cell_type": "markdown",
   "metadata": {},
   "source": [
    "#### Float type Column Description:\n",
    "\n",
    "* <b>'v2a1'</b>: Monthly rent payment\n",
    "<br>\n",
    "*<b>'v18q1'</b>: Number of tablets household owns\n",
    "<br>\n",
    "*<b>'rez_esc'</b>: Years behind in school\n",
    "<br>\n",
    "*<b>'meaneduc'</b>: Average years of education for adults (18+)\n",
    "<br>\n",
    "*<b>'overcrowding'</b>: # persons per room\n",
    "<br>\n",
    "*<b>'SQBovercrowding'</b>: overcrowding squared\n",
    "<br>\n",
    "*<b>'SQBdependency'</b>: dependency squared\n",
    "<br>\n",
    "*<b>'SQBmeaned'</b>: square of the mean years of education of adults (>=18) in the\n",
    "household\n",
    "\n"
   ]
  },
  {
   "cell_type": "markdown",
   "metadata": {},
   "source": [
    "#### Object Type Columns"
   ]
  },
  {
   "cell_type": "code",
   "execution_count": 8,
   "metadata": {},
   "outputs": [
    {
     "name": "stdout",
     "output_type": "stream",
     "text": [
      "Index(['Id', 'idhogar', 'dependency', 'edjefe', 'edjefa'], dtype='object')\n"
     ]
    },
    {
     "data": {
      "text/html": [
       "<div>\n",
       "<style scoped>\n",
       "    .dataframe tbody tr th:only-of-type {\n",
       "        vertical-align: middle;\n",
       "    }\n",
       "\n",
       "    .dataframe tbody tr th {\n",
       "        vertical-align: top;\n",
       "    }\n",
       "\n",
       "    .dataframe thead th {\n",
       "        text-align: right;\n",
       "    }\n",
       "</style>\n",
       "<table border=\"1\" class=\"dataframe\">\n",
       "  <thead>\n",
       "    <tr style=\"text-align: right;\">\n",
       "      <th></th>\n",
       "      <th>Id</th>\n",
       "      <th>idhogar</th>\n",
       "      <th>dependency</th>\n",
       "      <th>edjefe</th>\n",
       "      <th>edjefa</th>\n",
       "    </tr>\n",
       "  </thead>\n",
       "  <tbody>\n",
       "    <tr>\n",
       "      <th>0</th>\n",
       "      <td>ID_279628684</td>\n",
       "      <td>21eb7fcc1</td>\n",
       "      <td>no</td>\n",
       "      <td>10</td>\n",
       "      <td>no</td>\n",
       "    </tr>\n",
       "    <tr>\n",
       "      <th>1</th>\n",
       "      <td>ID_f29eb3ddd</td>\n",
       "      <td>0e5d7a658</td>\n",
       "      <td>8</td>\n",
       "      <td>12</td>\n",
       "      <td>no</td>\n",
       "    </tr>\n",
       "    <tr>\n",
       "      <th>2</th>\n",
       "      <td>ID_68de51c94</td>\n",
       "      <td>2c7317ea8</td>\n",
       "      <td>8</td>\n",
       "      <td>no</td>\n",
       "      <td>11</td>\n",
       "    </tr>\n",
       "    <tr>\n",
       "      <th>3</th>\n",
       "      <td>ID_d671db89c</td>\n",
       "      <td>2b58d945f</td>\n",
       "      <td>yes</td>\n",
       "      <td>11</td>\n",
       "      <td>no</td>\n",
       "    </tr>\n",
       "    <tr>\n",
       "      <th>4</th>\n",
       "      <td>ID_d56d6f5f5</td>\n",
       "      <td>2b58d945f</td>\n",
       "      <td>yes</td>\n",
       "      <td>11</td>\n",
       "      <td>no</td>\n",
       "    </tr>\n",
       "  </tbody>\n",
       "</table>\n",
       "</div>"
      ],
      "text/plain": [
       "             Id    idhogar dependency edjefe edjefa\n",
       "0  ID_279628684  21eb7fcc1         no     10     no\n",
       "1  ID_f29eb3ddd  0e5d7a658          8     12     no\n",
       "2  ID_68de51c94  2c7317ea8          8     no     11\n",
       "3  ID_d671db89c  2b58d945f        yes     11     no\n",
       "4  ID_d56d6f5f5  2b58d945f        yes     11     no"
      ]
     },
     "execution_count": 8,
     "metadata": {},
     "output_type": "execute_result"
    }
   ],
   "source": [
    "object_df = train_dataset.select_dtypes(include=['object'])\n",
    "print(object_df.columns)\n",
    "object_df.head(5)"
   ]
  },
  {
   "cell_type": "markdown",
   "metadata": {},
   "source": [
    "#### Object Type column Decription\n",
    "\n",
    "* <b>'dependency'</b>: Monthly rent payment\n",
    "<br>\n",
    "*<b>'edjefe'</b>: years of education of male head of household, based on the interaction of\n",
    "escolari (years of education), head of household and gender, yes=1 and no=0\n",
    "<br>\n",
    "*<b>'edjefa'</b>: years of education of female head of household, based on the interaction of\n",
    "escolari (years of education), head of household and gender, yes=1 and no=0\n",
    "<br>\n",
    "*<b>'Id'</b>: This column identifies each individual uniquely\n",
    "<br>\n",
    "*<b>'idhogar'</b>: This column identifies each household uniquely and this will be used for analysis based on household level"
   ]
  },
  {
   "cell_type": "code",
   "execution_count": 9,
   "metadata": {},
   "outputs": [
    {
     "data": {
      "text/html": [
       "<div>\n",
       "<style scoped>\n",
       "    .dataframe tbody tr th:only-of-type {\n",
       "        vertical-align: middle;\n",
       "    }\n",
       "\n",
       "    .dataframe tbody tr th {\n",
       "        vertical-align: top;\n",
       "    }\n",
       "\n",
       "    .dataframe thead th {\n",
       "        text-align: right;\n",
       "    }\n",
       "</style>\n",
       "<table border=\"1\" class=\"dataframe\">\n",
       "  <thead>\n",
       "    <tr style=\"text-align: right;\">\n",
       "      <th></th>\n",
       "      <th>idhogar</th>\n",
       "      <th>MemberCount</th>\n",
       "    </tr>\n",
       "  </thead>\n",
       "  <tbody>\n",
       "    <tr>\n",
       "      <th>0</th>\n",
       "      <td>fd8a6d014</td>\n",
       "      <td>13</td>\n",
       "    </tr>\n",
       "    <tr>\n",
       "      <th>1</th>\n",
       "      <td>0c7436de6</td>\n",
       "      <td>12</td>\n",
       "    </tr>\n",
       "    <tr>\n",
       "      <th>2</th>\n",
       "      <td>ae6cf0558</td>\n",
       "      <td>12</td>\n",
       "    </tr>\n",
       "    <tr>\n",
       "      <th>3</th>\n",
       "      <td>6b35cdcf0</td>\n",
       "      <td>11</td>\n",
       "    </tr>\n",
       "    <tr>\n",
       "      <th>4</th>\n",
       "      <td>4476ccd4c</td>\n",
       "      <td>11</td>\n",
       "    </tr>\n",
       "  </tbody>\n",
       "</table>\n",
       "</div>"
      ],
      "text/plain": [
       "     idhogar  MemberCount\n",
       "0  fd8a6d014           13\n",
       "1  0c7436de6           12\n",
       "2  ae6cf0558           12\n",
       "3  6b35cdcf0           11\n",
       "4  4476ccd4c           11"
      ]
     },
     "execution_count": 9,
     "metadata": {},
     "output_type": "execute_result"
    }
   ],
   "source": [
    "# count of members in each household\n",
    "household = train_dataset['idhogar'].value_counts()\n",
    "household = household.rename_axis('idhogar').reset_index(name='MemberCount')\n",
    "household.head()"
   ]
  },
  {
   "cell_type": "markdown",
   "metadata": {},
   "source": [
    "Grouping the data based on the number of members in the household. For e.g There is only one family with 13 members"
   ]
  },
  {
   "cell_type": "code",
   "execution_count": 10,
   "metadata": {},
   "outputs": [
    {
     "data": {
      "text/plain": [
       "3     755\n",
       "2     688\n",
       "4     609\n",
       "1     398\n",
       "5     315\n",
       "6     136\n",
       "7      52\n",
       "8      12\n",
       "9      10\n",
       "10      6\n",
       "11      4\n",
       "12      2\n",
       "13      1\n",
       "Name: MemberCount, dtype: int64"
      ]
     },
     "execution_count": 10,
     "metadata": {},
     "output_type": "execute_result"
    }
   ],
   "source": [
    "household['MemberCount'].value_counts()"
   ]
  },
  {
   "cell_type": "markdown",
   "metadata": {},
   "source": [
    "#### Treating 'edjefe' & 'edjefa' columns"
   ]
  },
  {
   "cell_type": "code",
   "execution_count": 11,
   "metadata": {},
   "outputs": [
    {
     "data": {
      "text/plain": [
       "no     3762\n",
       "6      1845\n",
       "11      751\n",
       "9       486\n",
       "3       307\n",
       "15      285\n",
       "8       257\n",
       "7       234\n",
       "5       222\n",
       "14      208\n",
       "17      202\n",
       "2       194\n",
       "4       137\n",
       "16      134\n",
       "yes     123\n",
       "12      113\n",
       "10      111\n",
       "13      103\n",
       "21       43\n",
       "18       19\n",
       "19       14\n",
       "20        7\n",
       "Name: edjefe, dtype: int64"
      ]
     },
     "execution_count": 11,
     "metadata": {},
     "output_type": "execute_result"
    }
   ],
   "source": [
    "train_dataset['edjefe'].value_counts()"
   ]
  },
  {
   "cell_type": "markdown",
   "metadata": {},
   "source": [
    "Mapping 'no' with 0 and yes"
   ]
  },
  {
   "cell_type": "code",
   "execution_count": 12,
   "metadata": {},
   "outputs": [
    {
     "data": {
      "text/plain": [
       "no     3762\n",
       "yes     123\n",
       "Name: edjefe, dtype: int64"
      ]
     },
     "execution_count": 12,
     "metadata": {},
     "output_type": "execute_result"
    }
   ],
   "source": [
    "train_dataset['edjefe'][(train_dataset['edjefe'] =='no') | (train_dataset['edjefe'] =='yes')].value_counts().sort_index()"
   ]
  },
  {
   "cell_type": "code",
   "execution_count": 13,
   "metadata": {},
   "outputs": [
    {
     "data": {
      "text/plain": [
       "Series([], Name: edjefe, dtype: int64)"
      ]
     },
     "execution_count": 13,
     "metadata": {},
     "output_type": "execute_result"
    }
   ],
   "source": [
    "train_dataset['edjefe'].replace({'no':0, 'yes':1},inplace=True)\n",
    "train_dataset['edjefe'][(train_dataset['edjefe'] =='no') | (train_dataset['edjefe'] =='yes')].value_counts().sort_index()"
   ]
  },
  {
   "cell_type": "code",
   "execution_count": 14,
   "metadata": {},
   "outputs": [
    {
     "name": "stdout",
     "output_type": "stream",
     "text": [
      "Before Replacing no     6230\n",
      "yes      69\n",
      "Name: edjefa, dtype: int64\n",
      "after replace: Series([], Name: edjefa, dtype: int64)\n"
     ]
    }
   ],
   "source": [
    "#Replacing 'edjefa' column's values\n",
    "print('Before Replacing',train_dataset['edjefa'][(train_dataset['edjefa'] =='no') | (train_dataset['edjefa'] =='yes')]\n",
    "      .value_counts().sort_index())\n",
    "train_dataset['edjefa'].replace({'no':0, 'yes':1},inplace=True)\n",
    "print('after replace:',train_dataset['edjefa'][(train_dataset['edjefa'] =='no') | (train_dataset['edjefa'] =='yes')]\n",
    "      .value_counts().sort_index())"
   ]
  },
  {
   "cell_type": "code",
   "execution_count": 15,
   "metadata": {},
   "outputs": [
    {
     "data": {
      "text/plain": [
       "yes          2192\n",
       "no           1747\n",
       ".5           1497\n",
       "2             730\n",
       "1.5           713\n",
       ".33333334     598\n",
       ".66666669     487\n",
       "8             378\n",
       ".25           260\n",
       "3             236\n",
       "4             100\n",
       ".75            98\n",
       ".2             90\n",
       "1.3333334      84\n",
       ".40000001      84\n",
       "2.5            77\n",
       "5              24\n",
       "3.5            18\n",
       "1.25           18\n",
       ".80000001      18\n",
       "2.25           13\n",
       ".71428573      12\n",
       "1.75           11\n",
       "1.2            11\n",
       ".22222222      11\n",
       ".83333331      11\n",
       ".2857143        9\n",
       "1.6666666       8\n",
       ".60000002       8\n",
       ".16666667       7\n",
       "6               7\n",
       "Name: dependency, dtype: int64"
      ]
     },
     "execution_count": 15,
     "metadata": {},
     "output_type": "execute_result"
    }
   ],
   "source": [
    "train_dataset['dependency'].value_counts()"
   ]
  },
  {
   "cell_type": "markdown",
   "metadata": {},
   "source": [
    "####  Dependency Column 'Yes' & 'no' value interpretation\n",
    "The 'SQBdependency' which is simply the square of Dependancy seems to suggest that providers of the data assumed that 'no' == 0 and 'yes' == 1. Hence we can replace the 'yes' with 1 & 'no' with a 0.\n",
    "\n",
    "We could also do a SQRT(SQBDependany) in order to get the Dependancy value"
   ]
  },
  {
   "cell_type": "code",
   "execution_count": 16,
   "metadata": {},
   "outputs": [
    {
     "data": {
      "text/plain": [
       "1.0    2192\n",
       "0.0    1747\n",
       "Name: SQBdependency, dtype: int64"
      ]
     },
     "execution_count": 16,
     "metadata": {},
     "output_type": "execute_result"
    }
   ],
   "source": [
    "# SQBDependency distribution based on Dependency 'yes' & 'no'\n",
    "train_dataset['SQBdependency'][(train_dataset['dependency']=='yes')|(train_dataset['dependency']=='no') ].value_counts()"
   ]
  },
  {
   "cell_type": "code",
   "execution_count": 17,
   "metadata": {},
   "outputs": [
    {
     "name": "stdout",
     "output_type": "stream",
     "text": [
      "Before Replacing\n",
      " no     1747\n",
      "yes    2192\n",
      "Name: dependency, dtype: int64\n",
      "After Replacing\n",
      " Series([], Name: dependency, dtype: int64)\n"
     ]
    }
   ],
   "source": [
    "print('Before Replacing\\n',train_dataset['dependency'][(train_dataset['dependency'] =='no') | (train_dataset['dependency'] =='yes')]\n",
    "      .value_counts().sort_index())\n",
    "train_dataset['dependency'].replace({'no':0, 'yes':1},inplace=True)\n",
    "print('After Replacing\\n',train_dataset['dependency'][(train_dataset['dependency'] =='no') | (train_dataset['dependency'] =='yes')]\n",
    "      .value_counts().sort_index())"
   ]
  },
  {
   "cell_type": "markdown",
   "metadata": {},
   "source": [
    "#### Q7. % of NaN Values per Column"
   ]
  },
  {
   "cell_type": "code",
   "execution_count": 18,
   "metadata": {},
   "outputs": [
    {
     "data": {
      "text/html": [
       "<div>\n",
       "<style scoped>\n",
       "    .dataframe tbody tr th:only-of-type {\n",
       "        vertical-align: middle;\n",
       "    }\n",
       "\n",
       "    .dataframe tbody tr th {\n",
       "        vertical-align: top;\n",
       "    }\n",
       "\n",
       "    .dataframe thead th {\n",
       "        text-align: right;\n",
       "    }\n",
       "</style>\n",
       "<table border=\"1\" class=\"dataframe\">\n",
       "  <thead>\n",
       "    <tr style=\"text-align: right;\">\n",
       "      <th></th>\n",
       "      <th>total</th>\n",
       "      <th>NaN_Percent</th>\n",
       "    </tr>\n",
       "  </thead>\n",
       "  <tbody>\n",
       "    <tr>\n",
       "      <th>rez_esc</th>\n",
       "      <td>7928</td>\n",
       "      <td>82.95</td>\n",
       "    </tr>\n",
       "    <tr>\n",
       "      <th>v18q1</th>\n",
       "      <td>7342</td>\n",
       "      <td>76.82</td>\n",
       "    </tr>\n",
       "    <tr>\n",
       "      <th>v2a1</th>\n",
       "      <td>6860</td>\n",
       "      <td>71.78</td>\n",
       "    </tr>\n",
       "    <tr>\n",
       "      <th>SQBmeaned</th>\n",
       "      <td>5</td>\n",
       "      <td>0.05</td>\n",
       "    </tr>\n",
       "    <tr>\n",
       "      <th>meaneduc</th>\n",
       "      <td>5</td>\n",
       "      <td>0.05</td>\n",
       "    </tr>\n",
       "    <tr>\n",
       "      <th>Id</th>\n",
       "      <td>0</td>\n",
       "      <td>0.00</td>\n",
       "    </tr>\n",
       "  </tbody>\n",
       "</table>\n",
       "</div>"
      ],
      "text/plain": [
       "           total  NaN_Percent\n",
       "rez_esc     7928        82.95\n",
       "v18q1       7342        76.82\n",
       "v2a1        6860        71.78\n",
       "SQBmeaned      5         0.05\n",
       "meaneduc       5         0.05\n",
       "Id             0         0.00"
      ]
     },
     "execution_count": 18,
     "metadata": {},
     "output_type": "execute_result"
    }
   ],
   "source": [
    "train_nan = pd.DataFrame(train_dataset.isnull().sum()).rename(columns={0:'total'})\n",
    "train_nan['NaN_Percent'] = round(100*(train_nan['total']/train_dataset.shape[0]),2)\n",
    "train_nan.sort_values('NaN_Percent',ascending= False ).head(6)"
   ]
  },
  {
   "cell_type": "code",
   "execution_count": 19,
   "metadata": {},
   "outputs": [
    {
     "data": {
      "text/plain": [
       "Text(0.5, 1.0, 'Fraction Of NaN Values,%')"
      ]
     },
     "execution_count": 19,
     "metadata": {},
     "output_type": "execute_result"
    },
    {
     "data": {
      "image/png": "[encoded data removed]",
      "text/plain": [
       "<Figure size 432x288 with 1 Axes>"
      ]
     },
     "metadata": {
      "needs_background": "light"
     },
     "output_type": "display_data"
    }
   ],
   "source": [
    "# Taking top 5 columns that have the null values\n",
    "plot_copy = train_nan.sort_values('NaN_Percent',ascending= False ).head(5)\n",
    "sns.barplot(y=plot_copy['total'],x=plot_copy.index)\n",
    "plt.title('Fraction Of NaN Values,%')"
   ]
  },
  {
   "cell_type": "markdown",
   "metadata": {},
   "source": [
    "#### The above analysis shows that the below columns have significant % of null values. We will treat each one of them in the upcoming steps:\n",
    "\n",
    "* <b>'v2a1'[total nulls : 6860]</b>: Monthly rent payment\n",
    "<br>\n",
    "*<b>'v18q1'[total nulls : 7342]</b>: Number of tablets household owns \n",
    "<br>\n",
    "*<b>'rez_esc'[total nulls : 7928]</b>: Years behind in school\n",
    "<br>\n",
    "*<b>'meaneduc'[total nulls : 5]</b>: Average years of education for adults (18+)\n",
    "<br>\n",
    "*<b>'SQBmeaned'[total nulls : 5]</b>: square of the mean years of education of adults (>=18) in the\n",
    "household"
   ]
  },
  {
   "cell_type": "markdown",
   "metadata": {},
   "source": [
    "#### v2a1 (Monthly Rent Payment)\n",
    "\n",
    "The montly rent payment column is related to the below columns provided in the list\n",
    "\n",
    "<b>tipovivi1</b> : =1 Own and fully paid house\n",
    "<br>\n",
    "<b>tipovivi2</b> : =1 Own & paying in installments\n",
    "<br>\n",
    "<b>tipovivi3</b> : =1, Rented\n",
    "<br>\n",
    "<b>tipovivi4</b> : =1 precarious\n",
    "<br>\n",
    "<b>tipovivi5</b> : =1 Other, assigned, borrowed\n",
    "\n",
    "The below bar graph analysis on distribution of NaN based on home ownership status."
   ]
  },
  {
   "cell_type": "code",
   "execution_count": 20,
   "metadata": {},
   "outputs": [
    {
     "data": {
      "text/plain": [
       "Text(0.5, 1.0, 'NaN Distribution Based On Ownership Type')"
      ]
     },
     "execution_count": 20,
     "metadata": {},
     "output_type": "execute_result"
    },
    {
     "data": {
      "image/png": "[encoded data removed]",
      "text/plain": [
       "<Figure size 360x360 with 1 Axes>"
      ]
     },
     "metadata": {
      "needs_background": "light"
     },
     "output_type": "display_data"
    }
   ],
   "source": [
    "ownership_columns = ['tipovivi1','tipovivi2','tipovivi3','tipovivi4','tipovivi5']\n",
    "train_dataset.loc[train_dataset['v2a1'].isnull(), ownership_columns].sum().plot.bar(figsize=(5,5))\n",
    "plt.title('NaN Distribution Based On Ownership Type')"
   ]
  },
  {
   "cell_type": "markdown",
   "metadata": {},
   "source": [
    "Looking at the ablove analysis the NaNs will be replaced 0. We can safely replace all the Nan values of v2a1 with 0 for all those instances where tipovivi1=1, because the house is already paid for. The rest of the groups representation is very low and we will assume that the 0 replacement of the  other tipovivi groups shoud not have significant impact on the prediction model\n"
   ]
  },
  {
   "cell_type": "code",
   "execution_count": 21,
   "metadata": {},
   "outputs": [
    {
     "name": "stdout",
     "output_type": "stream",
     "text": [
      "Current Count Of Nulls In v2a1: 0\n"
     ]
    }
   ],
   "source": [
    "#Replacing the v2a1's Nulls with 0\n",
    "train_dataset['v2a1'].fillna(value=0, inplace=True)\n",
    "print('Current Count Of Nulls In v2a1:',train_dataset['v2a1'].isnull().sum())"
   ]
  },
  {
   "cell_type": "markdown",
   "metadata": {},
   "source": [
    "#### v18q1 (Number of tablets household owns)"
   ]
  },
  {
   "cell_type": "code",
   "execution_count": 22,
   "metadata": {},
   "outputs": [
    {
     "data": {
      "text/plain": [
       "<AxesSubplot:>"
      ]
     },
     "execution_count": 22,
     "metadata": {},
     "output_type": "execute_result"
    },
    {
     "data": {
      "image/png": "[encoded data removed]",
      "text/plain": [
       "<Figure size 432x288 with 1 Axes>"
      ]
     },
     "metadata": {
      "needs_background": "light"
     },
     "output_type": "display_data"
    }
   ],
   "source": [
    "train_dataset['v18q1'].value_counts().sort_index().plot.bar()"
   ]
  },
  {
   "cell_type": "markdown",
   "metadata": {},
   "source": [
    "Since v18q1 is a household levl column, let's compare the household Head's tablet's owned, v18q column shows this data, with number of nulls present in the v18q1 column"
   ]
  },
  {
   "cell_type": "code",
   "execution_count": 23,
   "metadata": {},
   "outputs": [],
   "source": [
    "# Returns Number of nulls\n",
    "def count_null(data):\n",
    "    return data.isnull().sum()"
   ]
  },
  {
   "cell_type": "code",
   "execution_count": 24,
   "metadata": {},
   "outputs": [
    {
     "data": {
      "text/plain": [
       "v18q\n",
       "0    2318\n",
       "1       0\n",
       "Name: v18q1, dtype: int64"
      ]
     },
     "execution_count": 24,
     "metadata": {},
     "output_type": "execute_result"
    }
   ],
   "source": [
    "Household_head = train_dataset[train_dataset['parentesco1']==1].copy()\n",
    "Household_head.groupby('v18q')['v18q1'].apply(count_null)"
   ]
  },
  {
   "cell_type": "markdown",
   "metadata": {},
   "source": [
    "From the above analysis, it is evident that there are 2318 NaN values for the Household heads whose 'Owns Tablet' value is 0 and none of the heads who owns a table has a NaN value in 'v18q1' column. With this, we can safely replace the NaN values with 0 meaning that the person doesn't hold any tablet."
   ]
  },
  {
   "cell_type": "code",
   "execution_count": 25,
   "metadata": {},
   "outputs": [
    {
     "name": "stdout",
     "output_type": "stream",
     "text": [
      "Current Count Of Nulls In v18q1: 0\n"
     ]
    }
   ],
   "source": [
    "# Replacing the v18q1's Nulls with 0\n",
    "\n",
    "train_dataset['v18q1'].fillna(value=0, inplace=True)\n",
    "print('Current Count Of Nulls In v18q1:',train_dataset['v18q1'].isnull().sum())"
   ]
  },
  {
   "cell_type": "markdown",
   "metadata": {},
   "source": [
    "#### 'rez_esc'[total nulls : 7928]: Years behind in school"
   ]
  },
  {
   "cell_type": "markdown",
   "metadata": {},
   "source": [
    "The Years behind in school may be the measure of number of years a person is behind compared to the usual. So, the age of the person will be a good column for distribution analysis."
   ]
  },
  {
   "cell_type": "code",
   "execution_count": 26,
   "metadata": {},
   "outputs": [
    {
     "name": "stdout",
     "output_type": "stream",
     "text": [
      "count    1629.000000\n",
      "mean       12.258441\n",
      "std         3.218325\n",
      "min         7.000000\n",
      "25%         9.000000\n",
      "50%        12.000000\n",
      "75%        15.000000\n",
      "max        17.000000\n",
      "Name: age, dtype: float64\n"
     ]
    },
    {
     "data": {
      "text/plain": [
       "<AxesSubplot:>"
      ]
     },
     "execution_count": 26,
     "metadata": {},
     "output_type": "execute_result"
    },
    {
     "data": {
      "image/png": "[encoded data removed]",
      "text/plain": [
       "<Figure size 432x288 with 1 Axes>"
      ]
     },
     "metadata": {
      "needs_background": "light"
     },
     "output_type": "display_data"
    }
   ],
   "source": [
    "print(train_dataset.loc[(train_dataset['rez_esc'].notnull()) ,'age'].describe())\n",
    "train_dataset.loc[train_dataset['rez_esc'].notnull(),'age'].hist()"
   ]
  },
  {
   "cell_type": "markdown",
   "metadata": {},
   "source": [
    "This shows that the NOT Null values are mostly for the age group between 7 and 17 and this makes sense as well since years behind in scholl can be calculated for those who are actually in school."
   ]
  },
  {
   "cell_type": "code",
   "execution_count": 27,
   "metadata": {},
   "outputs": [
    {
     "data": {
      "image/png": "[encoded data removed]",
      "text/plain": [
       "<Figure size 432x288 with 1 Axes>"
      ]
     },
     "metadata": {
      "needs_background": "light"
     },
     "output_type": "display_data"
    }
   ],
   "source": [
    "train_dataset.loc[(train_dataset['rez_esc'].isnull()) ,'age'].hist(bins=15)\n",
    "plt.show()\n"
   ]
  },
  {
   "cell_type": "code",
   "execution_count": 28,
   "metadata": {},
   "outputs": [
    {
     "data": {
      "text/plain": [
       "1"
      ]
     },
     "execution_count": 28,
     "metadata": {},
     "output_type": "execute_result"
    }
   ],
   "source": [
    "# Number of instances that has a null and does fall withing the scooling years range\n",
    "train_dataset.loc[(train_dataset['rez_esc'].isnull()) & ((train_dataset['age']>=7)&(train_dataset['age']<=17)),'age'].count()"
   ]
  },
  {
   "cell_type": "markdown",
   "metadata": {},
   "source": [
    "#### From the above analysis we can replace the NaN with 0"
   ]
  },
  {
   "cell_type": "code",
   "execution_count": 29,
   "metadata": {},
   "outputs": [
    {
     "name": "stdout",
     "output_type": "stream",
     "text": [
      "Current Count Of Nulls In rez_esc: 0\n"
     ]
    }
   ],
   "source": [
    "train_dataset['rez_esc'].fillna(value=0, inplace=True)\n",
    "print('Current Count Of Nulls In rez_esc:',train_dataset['rez_esc'].isnull().sum())"
   ]
  },
  {
   "cell_type": "markdown",
   "metadata": {},
   "source": [
    "Similarly we can treat the remaining two columns which has 5 null instances each and can replace with 0"
   ]
  },
  {
   "cell_type": "code",
   "execution_count": 30,
   "metadata": {},
   "outputs": [
    {
     "data": {
      "text/plain": [
       "Series([], dtype: int64)"
      ]
     },
     "execution_count": 30,
     "metadata": {},
     "output_type": "execute_result"
    }
   ],
   "source": [
    "train_dataset['meaneduc'].fillna(value=0, inplace=True)\n",
    "train_dataset['SQBmeaned'].fillna(value=0, inplace=True)\n",
    "nulls_count = train_dataset.isnull().sum()\n",
    "nulls_count[nulls_count>0]"
   ]
  },
  {
   "cell_type": "markdown",
   "metadata": {},
   "source": [
    "The training dataset now doesn't contain any null values"
   ]
  },
  {
   "cell_type": "markdown",
   "metadata": {},
   "source": [
    "###  Q3. Target Column Analysis (Check For Biases)"
   ]
  },
  {
   "cell_type": "code",
   "execution_count": 31,
   "metadata": {},
   "outputs": [
    {
     "name": "stdout",
     "output_type": "stream",
     "text": [
      "4    5996\n",
      "2    1597\n",
      "3    1209\n",
      "1     755\n",
      "Name: Target, dtype: int64\n"
     ]
    },
    {
     "data": {
      "image/png": "[encoded data removed]",
      "text/plain": [
       "<Figure size 360x360 with 1 Axes>"
      ]
     },
     "metadata": {
      "needs_background": "light"
     },
     "output_type": "display_data"
    }
   ],
   "source": [
    "train_dataset['Target'].value_counts().plot.bar(figsize=(5,5))\n",
    "print(train_dataset['Target'].value_counts())"
   ]
  },
  {
   "cell_type": "markdown",
   "metadata": {},
   "source": [
    "#### This shows that there is an unequal output class distribution and our data is biased"
   ]
  },
  {
   "cell_type": "markdown",
   "metadata": {},
   "source": [
    "### Household Level Analysis"
   ]
  },
  {
   "cell_type": "markdown",
   "metadata": {},
   "source": [
    "### Q4 Check whether all members of the house have the same poverty level?\n",
    "<b>1.</b> Group By household 'idhogar' column and see if all the members of the house has the same target value\n"
   ]
  },
  {
   "cell_type": "code",
   "execution_count": 32,
   "metadata": {},
   "outputs": [
    {
     "name": "stdout",
     "output_type": "stream",
     "text": [
      "There are 85 households where all the members does not have unique target values\n"
     ]
    }
   ],
   "source": [
    "target_variance_by_household = train_dataset.groupby('idhogar')['Target'].nunique()\n",
    "print('There are {} households where all the members does not have unique target values'.format(sum(target_variance_by_household>1)))"
   ]
  },
  {
   "cell_type": "markdown",
   "metadata": {},
   "source": [
    "Sample household with different targets"
   ]
  },
  {
   "cell_type": "code",
   "execution_count": 33,
   "metadata": {},
   "outputs": [
    {
     "data": {
      "text/html": [
       "<div>\n",
       "<style scoped>\n",
       "    .dataframe tbody tr th:only-of-type {\n",
       "        vertical-align: middle;\n",
       "    }\n",
       "\n",
       "    .dataframe tbody tr th {\n",
       "        vertical-align: top;\n",
       "    }\n",
       "\n",
       "    .dataframe thead th {\n",
       "        text-align: right;\n",
       "    }\n",
       "</style>\n",
       "<table border=\"1\" class=\"dataframe\">\n",
       "  <thead>\n",
       "    <tr style=\"text-align: right;\">\n",
       "      <th></th>\n",
       "      <th>idhogar</th>\n",
       "      <th>parentesco1</th>\n",
       "      <th>Target</th>\n",
       "    </tr>\n",
       "  </thead>\n",
       "  <tbody>\n",
       "    <tr>\n",
       "      <th>6023</th>\n",
       "      <td>5c6f32bbc</td>\n",
       "      <td>1</td>\n",
       "      <td>3</td>\n",
       "    </tr>\n",
       "    <tr>\n",
       "      <th>6024</th>\n",
       "      <td>5c6f32bbc</td>\n",
       "      <td>0</td>\n",
       "      <td>4</td>\n",
       "    </tr>\n",
       "    <tr>\n",
       "      <th>6025</th>\n",
       "      <td>5c6f32bbc</td>\n",
       "      <td>0</td>\n",
       "      <td>2</td>\n",
       "    </tr>\n",
       "  </tbody>\n",
       "</table>\n",
       "</div>"
      ],
      "text/plain": [
       "        idhogar  parentesco1  Target\n",
       "6023  5c6f32bbc            1       3\n",
       "6024  5c6f32bbc            0       4\n",
       "6025  5c6f32bbc            0       2"
      ]
     },
     "execution_count": 33,
     "metadata": {},
     "output_type": "execute_result"
    }
   ],
   "source": [
    "train_dataset.loc[train_dataset['idhogar']==target_variance_by_household[target_variance_by_household>2].index[0],['idhogar', 'parentesco1', 'Target']]"
   ]
  },
  {
   "cell_type": "code",
   "execution_count": 34,
   "metadata": {},
   "outputs": [
    {
     "data": {
      "text/plain": [
       "1    2903\n",
       "2      84\n",
       "3       1\n",
       "Name: Target, dtype: int64"
      ]
     },
     "execution_count": 34,
     "metadata": {},
     "output_type": "execute_result"
    }
   ],
   "source": [
    "# Count of households count of different targets for the same household\n",
    "target_variance_by_household.value_counts()"
   ]
  },
  {
   "cell_type": "markdown",
   "metadata": {},
   "source": [
    "#### The above analysis shows that there are 2903 households which have unique target(all the members have consisten target mapping). 84 households have members that have 2 different targets and 1 household has 3 unique target values."
   ]
  },
  {
   "cell_type": "markdown",
   "metadata": {},
   "source": [
    "We will now target these 85 households and make the target value consisten with that of the head for that particular house. Before that we need to ensure if all the households have atleast 1 head."
   ]
  },
  {
   "cell_type": "markdown",
   "metadata": {},
   "source": [
    "### Q5. Check if there is a house without a family head?"
   ]
  },
  {
   "cell_type": "code",
   "execution_count": 35,
   "metadata": {},
   "outputs": [
    {
     "name": "stdout",
     "output_type": "stream",
     "text": [
      "There are 15 households with no heads\n",
      "There are 2973 households with heads\n"
     ]
    }
   ],
   "source": [
    "households_with_target_variance = target_variance_by_household[target_variance_by_household>1].index\n",
    "headless_households = []\n",
    "headed_household = []\n",
    "for house in target_variance_by_household.index:\n",
    "    parentesco1sum = train_dataset.loc[train_dataset['idhogar']==house,'parentesco1'].sum()\n",
    "    if parentesco1sum==0:\n",
    "        headless_households.append(house)\n",
    "    elif parentesco1sum ==1:\n",
    "        headed_household.append(house)\n",
    "print('There are {} households with no heads'.format(len(headless_households)))\n",
    "print('There are {} households with heads'.format(len(headed_household)))"
   ]
  },
  {
   "cell_type": "code",
   "execution_count": 36,
   "metadata": {},
   "outputs": [
    {
     "name": "stdout",
     "output_type": "stream",
     "text": [
      "There are 0 households with no head and have different Target value\n"
     ]
    }
   ],
   "source": [
    "i=0\n",
    "for headless in headless_households:\n",
    "    for household in households_with_target_variance:\n",
    "        if headless==household:\n",
    "            i+=1\n",
    "print('There are {} households with no head and have different Target value'.format(i))\n",
    "        "
   ]
  },
  {
   "cell_type": "markdown",
   "metadata": {},
   "source": [
    "### Q6. Set the poverty level of the members and the head of the house same in a family."
   ]
  },
  {
   "cell_type": "markdown",
   "metadata": {},
   "source": [
    "So, we can set the target value of all the members belonging to particular household to its head(parentesco1). Theare 85 such households"
   ]
  },
  {
   "cell_type": "code",
   "execution_count": 37,
   "metadata": {},
   "outputs": [
    {
     "name": "stdout",
     "output_type": "stream",
     "text": [
      "Now, there are 0 households where all the members does not have unique target values\n"
     ]
    }
   ],
   "source": [
    "for hold in households_with_target_variance:\n",
    "    train_dataset.loc[train_dataset['idhogar']==hold,'Target']= int(train_dataset.loc[(train_dataset['idhogar']==hold) & train_dataset['parentesco1']==1,'Target'])\n",
    "    \n",
    "target_variance_per_household = train_dataset.groupby('idhogar')['Target'].nunique()\n",
    "print('Now, there are {} households where all the members does not have unique target values'.format(sum(target_variance_per_household>1)))"
   ]
  },
  {
   "cell_type": "markdown",
   "metadata": {},
   "source": [
    "### Dropping Unnecessary Columns"
   ]
  },
  {
   "cell_type": "markdown",
   "metadata": {},
   "source": [
    "We should focus on the squared columns whihc might be redundant. Since we have a large number of columns and these squared columns might not be helpful"
   ]
  },
  {
   "cell_type": "markdown",
   "metadata": {},
   "source": [
    "134. SQBescolari= escolari squared\n",
    "135. SQBage, age squared\n",
    "136. SQBhogar_total, hogar_total squared\n",
    "137. SQBedjefe, edjefe squared\n",
    "138. SQBhogar_nin, hogar_nin squared\n",
    "139. SQBovercrowding, overcrowding squared\n",
    "140. SQBdependency, dependency squared\n",
    "141. SQBmeaned, square of the mean years of education of adults (>=18) in the\n",
    "household\n",
    "142. agesq= Age squared"
   ]
  },
  {
   "cell_type": "code",
   "execution_count": 38,
   "metadata": {},
   "outputs": [
    {
     "name": "stdout",
     "output_type": "stream",
     "text": [
      "Shape of training set before dropping squared columns (9557, 143)\n",
      "Shape of training set after dropping squared columns (9557, 134)\n"
     ]
    }
   ],
   "source": [
    "drop_columns = ['SQBescolari', 'SQBage', 'SQBhogar_total', 'SQBedjefe', \n",
    "                'SQBhogar_nin', 'SQBovercrowding', 'SQBdependency', 'SQBmeaned', 'agesq']\n",
    "print('Shape of training set before dropping squared columns',train_dataset.shape)\n",
    "train_dataset.drop(columns= drop_columns, inplace=True)\n",
    "print('Shape of training set after dropping squared columns',train_dataset.shape)"
   ]
  },
  {
   "cell_type": "markdown",
   "metadata": {},
   "source": [
    "### Q8. Remove null value rows of the target variable."
   ]
  },
  {
   "cell_type": "code",
   "execution_count": 39,
   "metadata": {},
   "outputs": [
    {
     "data": {
      "text/plain": [
       "0"
      ]
     },
     "execution_count": 39,
     "metadata": {},
     "output_type": "execute_result"
    }
   ],
   "source": [
    "train_dataset['Target'].isnull().sum()"
   ]
  },
  {
   "cell_type": "markdown",
   "metadata": {},
   "source": [
    "#### Segregating the Household and Individual Level Variables for Further Reduction in Dimensionality"
   ]
  },
  {
   "cell_type": "code",
   "execution_count": 40,
   "metadata": {},
   "outputs": [],
   "source": [
    "id_cols = ['Id', 'idhogar', 'Target'] # identity & Target columns\n",
    "\n",
    "# Individual boolean variables\n",
    "ind_bool = ['v18q', 'dis', 'male', 'female', 'estadocivil1', 'estadocivil2', 'estadocivil3', \n",
    "            'estadocivil4', 'estadocivil5', 'estadocivil6', 'estadocivil7', \n",
    "            'parentesco1', 'parentesco2',  'parentesco3', 'parentesco4', 'parentesco5', \n",
    "            'parentesco6', 'parentesco7', 'parentesco8',  'parentesco9', 'parentesco10', \n",
    "            'parentesco11', 'parentesco12', 'instlevel1', 'instlevel2', 'instlevel3', \n",
    "            'instlevel4', 'instlevel5', 'instlevel6', 'instlevel7', 'instlevel8', \n",
    "            'instlevel9', 'mobilephone']\n",
    "\n",
    "# Individual Ordered variables\n",
    "ind_ord = ['rez_esc', 'escolari', 'age']\n",
    "\n",
    "# Household boolean\n",
    "\n",
    "house_bool = ['hacdor', 'hacapo', 'v14a', 'refrig', 'paredblolad', 'paredzocalo', \n",
    "           'paredpreb','pisocemento', 'pareddes', 'paredmad',\n",
    "           'paredzinc', 'paredfibras', 'paredother', 'pisomoscer', 'pisoother', \n",
    "           'pisonatur', 'pisonotiene', 'pisomadera',\n",
    "           'techozinc', 'techoentrepiso', 'techocane', 'techootro', 'cielorazo', \n",
    "           'abastaguadentro', 'abastaguafuera', 'abastaguano',\n",
    "            'public', 'planpri', 'noelec', 'coopele', 'sanitario1', \n",
    "           'sanitario2', 'sanitario3', 'sanitario5',   'sanitario6',\n",
    "           'energcocinar1', 'energcocinar2', 'energcocinar3', 'energcocinar4', \n",
    "           'elimbasu1', 'elimbasu2', 'elimbasu3', 'elimbasu4', \n",
    "           'elimbasu5', 'elimbasu6', 'epared1', 'epared2', 'epared3',\n",
    "           'etecho1', 'etecho2', 'etecho3', 'eviv1', 'eviv2', 'eviv3', \n",
    "           'tipovivi1', 'tipovivi2', 'tipovivi3', 'tipovivi4', 'tipovivi5', \n",
    "           'computer', 'television', 'lugar1', 'lugar2', 'lugar3',\n",
    "           'lugar4', 'lugar5', 'lugar6', 'area1', 'area2']\n",
    "\n",
    "# Household ordered\n",
    "\n",
    "house_ordered = [ 'rooms', 'r4h1', 'r4h2', 'r4h3', 'r4m1','r4m2','r4m3', 'r4t1',  'r4t2', \n",
    "              'r4t3', 'v18q1', 'tamhog','tamviv','hhsize','hogar_nin',\n",
    "              'hogar_adul','hogar_mayor','hogar_total',  'bedrooms', 'qmobilephone']\n",
    "\n",
    "# Household continuous\n",
    "house_cont = ['v2a1', 'dependency', 'edjefe', 'edjefa', 'meaneduc', 'overcrowding']"
   ]
  },
  {
   "cell_type": "markdown",
   "metadata": {},
   "source": [
    "### Household Level Analysis"
   ]
  },
  {
   "cell_type": "code",
   "execution_count": 41,
   "metadata": {},
   "outputs": [
    {
     "data": {
      "text/plain": [
       "(2973, 98)"
      ]
     },
     "execution_count": 41,
     "metadata": {},
     "output_type": "execute_result"
    }
   ],
   "source": [
    "house_cols = id_cols + house_bool + house_ordered + house_cont\n",
    "house_train_dataset = train_dataset.loc[train_dataset['parentesco1']==1,house_cols]\n",
    "house_train_dataset.shape"
   ]
  },
  {
   "cell_type": "markdown",
   "metadata": {},
   "source": [
    "#### Formulate the correlation matrix to see if there is any strong coorelation between the variables\n",
    "\n",
    "we will be using the numpy's triu function inorder to just get upper triangle of the correlation matrix.\n",
    "A correlation matrix is an nXn matrix where n is the number of dependant variables and each value in the cell is the correlation between its row index variable and column index variable. Also, the diagonal value of such a matrix is 1, since the diagonal value is the correlation between itself."
   ]
  },
  {
   "cell_type": "code",
   "execution_count": 42,
   "metadata": {},
   "outputs": [
    {
     "data": {
      "text/plain": [
       "['coopele', 'area2', 'tamhog', 'hhsize', 'hogar_total']"
      ]
     },
     "execution_count": 42,
     "metadata": {},
     "output_type": "execute_result"
    }
   ],
   "source": [
    "house_train_dataset_corr = house_train_dataset.corr()               # corr matrix\n",
    "house_train_dataset_corr_shape = house_train_dataset_corr.shape     # shape of correlation matrix\n",
    "true_bools = np.ones(house_train_dataset_corr_shape).astype(bool)   # True boolean matrix of shape mXn (shape as above) \n",
    "upper_tri_bools = np.triu(true_bools,k=1)                           # k=1 excludes the diagonal values as well\n",
    "upper_house_train_dataset_corr = house_train_dataset_corr.where(upper_tri_bools) #Where cond is True, keep the original value\n",
    "household_col_to_drop = [column for column in upper_house_train_dataset_corr.columns \n",
    "                         if any(abs(upper_house_train_dataset_corr[column])>0.95)]\n",
    "household_col_to_drop"
   ]
  },
  {
   "cell_type": "markdown",
   "metadata": {},
   "source": [
    "#### Higly correlated Columns\n",
    "\n",
    "'coopele', 'area2', 'tamhog', 'hhsize', 'hogar_total'\n",
    "\n",
    "<b>coopele</b> : =1 electricity from cooperative\n",
    "<br>\n",
    "<b>area2</b> : =2  zona rural\n",
    "<br>\n",
    "<b>tamhog</b> : size of the household\n",
    "<br>\n",
    "<b>hhsize</b> : household size\n",
    "<br>\n",
    "<b>hogar_total</b> : # of total individuals in the household\n",
    "<br>\n",
    "\n",
    "We need to check what are the other substitute columns for each one above one by one"
   ]
  },
  {
   "cell_type": "markdown",
   "metadata": {},
   "source": [
    "#### Coopele"
   ]
  },
  {
   "cell_type": "code",
   "execution_count": 43,
   "metadata": {},
   "outputs": [
    {
     "data": {
      "text/plain": [
       "public    -0.974788\n",
       "coopele    1.000000\n",
       "Name: coopele, dtype: float64"
      ]
     },
     "execution_count": 43,
     "metadata": {},
     "output_type": "execute_result"
    }
   ],
   "source": [
    "# coopele correlation data\n",
    "coopele_corr_data = house_train_dataset_corr.loc['coopele']\n",
    "coopele_corr_data[abs(coopele_corr_data)>.95]"
   ]
  },
  {
   "cell_type": "markdown",
   "metadata": {},
   "source": [
    "From above, we can see that the 'public' variable is showing strong negative coorelation with the 'coopele'\n",
    "\n",
    "In the document the 'public' variable's definition is '=1 electricity from CNFL, ICE, ESPH/JASEC'. We can drop one of them however we will be keeping this for now considering the difference in their representation"
   ]
  },
  {
   "cell_type": "markdown",
   "metadata": {},
   "source": [
    "#### area2"
   ]
  },
  {
   "cell_type": "code",
   "execution_count": 44,
   "metadata": {},
   "outputs": [
    {
     "data": {
      "text/plain": [
       "area1   -1.0\n",
       "area2    1.0\n",
       "Name: area2, dtype: float64"
      ]
     },
     "execution_count": 44,
     "metadata": {},
     "output_type": "execute_result"
    }
   ],
   "source": [
    "# area2 correlation data\n",
    "area2_corr_data = house_train_dataset_corr.loc['area2']\n",
    "area2_corr_data[abs(area2_corr_data)>.95]"
   ]
  },
  {
   "cell_type": "markdown",
   "metadata": {},
   "source": [
    "This shows area1(1 zona urbana) and area 2 are negatively coorealted. We can drop one of the columns"
   ]
  },
  {
   "cell_type": "markdown",
   "metadata": {},
   "source": [
    "#### tamhog\n",
    "\n",
    "There are several columns representing the same measure that of Tamhog. Let's explore further"
   ]
  },
  {
   "cell_type": "code",
   "execution_count": 45,
   "metadata": {},
   "outputs": [
    {
     "data": {
      "text/html": [
       "<div>\n",
       "<style scoped>\n",
       "    .dataframe tbody tr th:only-of-type {\n",
       "        vertical-align: middle;\n",
       "    }\n",
       "\n",
       "    .dataframe tbody tr th {\n",
       "        vertical-align: top;\n",
       "    }\n",
       "\n",
       "    .dataframe thead th {\n",
       "        text-align: right;\n",
       "    }\n",
       "</style>\n",
       "<table border=\"1\" class=\"dataframe\">\n",
       "  <thead>\n",
       "    <tr style=\"text-align: right;\">\n",
       "      <th></th>\n",
       "      <th>r4t3</th>\n",
       "      <th>tamhog</th>\n",
       "      <th>tamviv</th>\n",
       "      <th>hhsize</th>\n",
       "      <th>hogar_total</th>\n",
       "    </tr>\n",
       "  </thead>\n",
       "  <tbody>\n",
       "    <tr>\n",
       "      <th>r4t3</th>\n",
       "      <td>1.000000</td>\n",
       "      <td>0.996884</td>\n",
       "      <td>0.929237</td>\n",
       "      <td>0.996884</td>\n",
       "      <td>0.996884</td>\n",
       "    </tr>\n",
       "    <tr>\n",
       "      <th>tamhog</th>\n",
       "      <td>0.996884</td>\n",
       "      <td>1.000000</td>\n",
       "      <td>0.926667</td>\n",
       "      <td>1.000000</td>\n",
       "      <td>1.000000</td>\n",
       "    </tr>\n",
       "    <tr>\n",
       "      <th>tamviv</th>\n",
       "      <td>0.929237</td>\n",
       "      <td>0.926667</td>\n",
       "      <td>1.000000</td>\n",
       "      <td>0.926667</td>\n",
       "      <td>0.926667</td>\n",
       "    </tr>\n",
       "    <tr>\n",
       "      <th>hhsize</th>\n",
       "      <td>0.996884</td>\n",
       "      <td>1.000000</td>\n",
       "      <td>0.926667</td>\n",
       "      <td>1.000000</td>\n",
       "      <td>1.000000</td>\n",
       "    </tr>\n",
       "    <tr>\n",
       "      <th>hogar_total</th>\n",
       "      <td>0.996884</td>\n",
       "      <td>1.000000</td>\n",
       "      <td>0.926667</td>\n",
       "      <td>1.000000</td>\n",
       "      <td>1.000000</td>\n",
       "    </tr>\n",
       "  </tbody>\n",
       "</table>\n",
       "</div>"
      ],
      "text/plain": [
       "                 r4t3    tamhog    tamviv    hhsize  hogar_total\n",
       "r4t3         1.000000  0.996884  0.929237  0.996884     0.996884\n",
       "tamhog       0.996884  1.000000  0.926667  1.000000     1.000000\n",
       "tamviv       0.929237  0.926667  1.000000  0.926667     0.926667\n",
       "hhsize       0.996884  1.000000  0.926667  1.000000     1.000000\n",
       "hogar_total  0.996884  1.000000  0.926667  1.000000     1.000000"
      ]
     },
     "execution_count": 45,
     "metadata": {},
     "output_type": "execute_result"
    }
   ],
   "source": [
    "tamhog_corr_data = house_train_dataset_corr.loc[abs(house_train_dataset_corr['tamhog'])>0.9\n",
    "                                                ,abs(house_train_dataset_corr['tamhog'])>0.9]\n",
    "tamhog_corr_data"
   ]
  },
  {
   "cell_type": "markdown",
   "metadata": {},
   "source": [
    "The above correlation matrix is a subset of the main correlation matrix and shows all the correlaed fields of Tamhog. The definition of each one is as below and all of them represent the total size of the household. we can choose to keep only one of them.\n",
    "\n",
    "<b>tamhog</b> : size of the household\n",
    "<br>\n",
    "<b>hhsize</b> : household size\n",
    "<br>\n",
    "<b>hogar_total</b> : # of total individuals in the household\n",
    "<br>\n",
    "<b>tamviv</b> : number of persons living in the household\n",
    "<br>\n",
    "<b>r4t3</b> : Total persons in the household\n",
    "<br>\n"
   ]
  },
  {
   "cell_type": "markdown",
   "metadata": {},
   "source": [
    "### Individual Level Analysis"
   ]
  },
  {
   "cell_type": "code",
   "execution_count": 46,
   "metadata": {},
   "outputs": [
    {
     "data": {
      "text/plain": [
       "(9557, 39)"
      ]
     },
     "execution_count": 46,
     "metadata": {},
     "output_type": "execute_result"
    }
   ],
   "source": [
    "individual_cols = id_cols + ind_bool + ind_ord\n",
    "ind_train_dataset = train_dataset[individual_cols]\n",
    "ind_train_dataset.shape"
   ]
  },
  {
   "cell_type": "code",
   "execution_count": 47,
   "metadata": {},
   "outputs": [
    {
     "data": {
      "text/plain": [
       "['female']"
      ]
     },
     "execution_count": 47,
     "metadata": {},
     "output_type": "execute_result"
    }
   ],
   "source": [
    "# correlation matrix\n",
    "individual_cols_corr = train_dataset[individual_cols].corr()\n",
    "individual_cols_corr_shape = individual_cols_corr.shape\n",
    "ind_true_bool = np.ones(individual_cols_corr_shape).astype(bool)\n",
    "ind_upper_tri_bool = np.triu(ind_true_bool, k=1)\n",
    "ind_upper_tri_corr = individual_cols_corr.where(ind_upper_tri_bool)\n",
    "ind_cols_to_drop = [column for column in ind_upper_tri_corr.columns if any(abs(ind_upper_tri_corr[column])>0.95)]\n",
    "ind_cols_to_drop"
   ]
  },
  {
   "cell_type": "markdown",
   "metadata": {},
   "source": [
    "#### The 'female' colum is show some strong correlation with another dependant variable."
   ]
  },
  {
   "cell_type": "code",
   "execution_count": 48,
   "metadata": {},
   "outputs": [
    {
     "data": {
      "text/plain": [
       "male     -1.0\n",
       "female    1.0\n",
       "Name: female, dtype: float64"
      ]
     },
     "execution_count": 48,
     "metadata": {},
     "output_type": "execute_result"
    }
   ],
   "source": [
    "female_data_corr = individual_cols_corr.loc['female']\n",
    "female_data_corr[abs(female_data_corr)>0.95]"
   ]
  },
  {
   "cell_type": "markdown",
   "metadata": {},
   "source": [
    "As evident above, the female column is strongly correlated with the male variable. We can choose to keep only one"
   ]
  },
  {
   "cell_type": "markdown",
   "metadata": {},
   "source": [
    "#### Final Drop List\n",
    "\n",
    "We will be deleting 'area2', 'female'(keeping male),'tamhog'(keeping hh size), 'hogar_total', 'r4t3'(keeping tamviv). Also we will now drop the id columns id, idhogar."
   ]
  },
  {
   "cell_type": "code",
   "execution_count": 49,
   "metadata": {},
   "outputs": [
    {
     "data": {
      "text/plain": [
       "(9557, 127)"
      ]
     },
     "execution_count": 49,
     "metadata": {},
     "output_type": "execute_result"
    }
   ],
   "source": [
    "final_drop_col = ['area2', 'female','tamhog', 'hogar_total', 'r4t3', 'Id', 'idhogar']\n",
    "\n",
    "train_dataset.drop(columns=final_drop_col, inplace=True)\n",
    "train_dataset.shape\n"
   ]
  },
  {
   "cell_type": "markdown",
   "metadata": {},
   "source": [
    "## Model Training"
   ]
  },
  {
   "cell_type": "markdown",
   "metadata": {},
   "source": [
    "#### Data splitting"
   ]
  },
  {
   "cell_type": "code",
   "execution_count": 50,
   "metadata": {},
   "outputs": [],
   "source": [
    "from sklearn.model_selection import train_test_split\n",
    "\n",
    "X = train_dataset.iloc[:,:-1]\n",
    "y = train_dataset.iloc[:,-1]\n",
    "\n",
    "X_train, X_test, y_train, y_test = train_test_split(X, y, test_size = 0.2, random_state=42)"
   ]
  },
  {
   "cell_type": "code",
   "execution_count": 51,
   "metadata": {},
   "outputs": [
    {
     "data": {
      "text/plain": [
       "[(7645, 126), (7645,), (1912, 126), (1912,)]"
      ]
     },
     "execution_count": 51,
     "metadata": {},
     "output_type": "execute_result"
    }
   ],
   "source": [
    "shapes = shapes= [X_train.shape,y_train.shape, X_test.shape,y_test.shape]\n",
    "shapes"
   ]
  },
  {
   "cell_type": "code",
   "execution_count": 52,
   "metadata": {},
   "outputs": [
    {
     "name": "stdout",
     "output_type": "stream",
     "text": [
      "RandomForestClassifier(n_jobs=-1, oob_score=True)\n"
     ]
    }
   ],
   "source": [
    "from sklearn.ensemble import RandomForestClassifier\n",
    "\n",
    "RF_classifier = RandomForestClassifier(#max_leaf_nodes = 32,\n",
    "                                     n_estimators=100,\n",
    "                                     oob_score = True,\n",
    "                                     n_jobs = -1,\n",
    "                                     criterion = 'gini')\n",
    "\n",
    "print(RF_classifier)"
   ]
  },
  {
   "cell_type": "code",
   "execution_count": 53,
   "metadata": {},
   "outputs": [],
   "source": [
    "from sklearn import metrics"
   ]
  },
  {
   "cell_type": "code",
   "execution_count": 54,
   "metadata": {},
   "outputs": [
    {
     "data": {
      "text/plain": [
       "{'bootstrap': True,\n",
       " 'ccp_alpha': 0.0,\n",
       " 'class_weight': None,\n",
       " 'criterion': 'gini',\n",
       " 'max_depth': None,\n",
       " 'max_features': 'auto',\n",
       " 'max_leaf_nodes': None,\n",
       " 'max_samples': None,\n",
       " 'min_impurity_decrease': 0.0,\n",
       " 'min_impurity_split': None,\n",
       " 'min_samples_leaf': 1,\n",
       " 'min_samples_split': 2,\n",
       " 'min_weight_fraction_leaf': 0.0,\n",
       " 'n_estimators': 100,\n",
       " 'n_jobs': -1,\n",
       " 'oob_score': True,\n",
       " 'random_state': None,\n",
       " 'verbose': 0,\n",
       " 'warm_start': False}"
      ]
     },
     "execution_count": 54,
     "metadata": {},
     "output_type": "execute_result"
    }
   ],
   "source": [
    "RF_classifier.get_params()"
   ]
  },
  {
   "cell_type": "code",
   "execution_count": 55,
   "metadata": {},
   "outputs": [
    {
     "name": "stdout",
     "output_type": "stream",
     "text": [
      "Random Forest R2 Score 1.0\n",
      "Random Forest OOB Score 0.937737083060824\n"
     ]
    }
   ],
   "source": [
    "RF_classifier.fit(X_train, y_train)\n",
    "y_pred_rf = RF_classifier.predict(X_test)\n",
    "\n",
    "print('Random Forest R2 Score', metrics.r2_score(y_train,RF_classifier.predict(X_train)))\n",
    "print('Random Forest OOB Score',RF_classifier.oob_score_ )\n",
    "\n"
   ]
  },
  {
   "cell_type": "markdown",
   "metadata": {},
   "source": [
    "#### Feature Importances"
   ]
  },
  {
   "cell_type": "code",
   "execution_count": 56,
   "metadata": {},
   "outputs": [
    {
     "data": {
      "image/png": "[encoded data removed]",
      "text/plain": [
       "<Figure size 432x288 with 1 Axes>"
      ]
     },
     "metadata": {
      "needs_background": "light"
     },
     "output_type": "display_data"
    }
   ],
   "source": [
    "features = pd.Series(RF_classifier.feature_importances_, index=X_train.columns)\n",
    "features.nlargest(20).plot(kind='barh')\n",
    "plt.show()"
   ]
  },
  {
   "cell_type": "markdown",
   "metadata": {},
   "source": [
    "#### meanedu, dependency & overcrowding seem to be important predictors for the model along with other."
   ]
  },
  {
   "cell_type": "markdown",
   "metadata": {},
   "source": [
    "### Q9. Predict the accuracy using random forest classifier?\n",
    "#### Prediction Accuracy"
   ]
  },
  {
   "cell_type": "code",
   "execution_count": 57,
   "metadata": {},
   "outputs": [
    {
     "name": "stdout",
     "output_type": "stream",
     "text": [
      "              precision    recall  f1-score   support\n",
      "\n",
      "           1       0.99      0.90      0.94       169\n",
      "           2       0.97      0.88      0.93       302\n",
      "           3       0.99      0.81      0.89       257\n",
      "           4       0.93      1.00      0.96      1184\n",
      "\n",
      "    accuracy                           0.94      1912\n",
      "   macro avg       0.97      0.90      0.93      1912\n",
      "weighted avg       0.95      0.94      0.94      1912\n",
      "\n",
      "[[ 152    2    0   15]\n",
      " [   2  266    1   33]\n",
      " [   0    1  209   47]\n",
      " [   0    4    1 1179]]\n",
      "Accuracy of the model on Testing Sample Data: 0.94\n"
     ]
    }
   ],
   "source": [
    "print(metrics.classification_report(y_test, y_pred_rf))\n",
    "print(metrics.confusion_matrix(y_test, y_pred_rf))\n",
    "\n",
    "# Printing the Overall Accuracy of the model\n",
    "F1_Score=metrics.f1_score(y_test, y_pred_rf, average='weighted')\n",
    "print('Accuracy of the model on Testing Sample Data:', round(F1_Score,2))"
   ]
  },
  {
   "cell_type": "markdown",
   "metadata": {},
   "source": [
    "### Q10. Check the accuracy using a random forest with cross-validation?\n",
    "#### K Fold Cross Validation"
   ]
  },
  {
   "cell_type": "code",
   "execution_count": 58,
   "metadata": {},
   "outputs": [
    {
     "name": "stdout",
     "output_type": "stream",
     "text": [
      "\n",
      "Accuracy values for 10-fold Cross Validation:\n",
      " [0.94508368 0.94142259 0.93772894 0.9466248  0.9544741 ]\n",
      "\n",
      "Final Average Accuracy of the model: 94.51\n"
     ]
    }
   ],
   "source": [
    "# Importing cross validation function from sklearn\n",
    "from sklearn.model_selection import cross_val_score, KFold\n",
    "\n",
    "kfold = KFold(n_splits=5, random_state=42, shuffle=True)\n",
    "RF_classifier_kfold = RandomForestClassifier(n_estimators=100,\n",
    "                                            n_jobs = -1, random_state=10\n",
    "                                            )\n",
    "RF_classifier_kfold.fit(X_train,y_train)\n",
    "Accuracy_Values=cross_val_score(RF_classifier_kfold, X , y, cv=kfold, scoring='accuracy')\n",
    "print('\\nAccuracy values for 10-fold Cross Validation:\\n',Accuracy_Values)\n",
    "print('\\nFinal Average Accuracy of the model:', round(Accuracy_Values.mean()*100,2))"
   ]
  },
  {
   "cell_type": "markdown",
   "metadata": {},
   "source": [
    "## Test Data Cleaning and Prediction"
   ]
  },
  {
   "cell_type": "code",
   "execution_count": 60,
   "metadata": {},
   "outputs": [],
   "source": [
    "test_dataset = pd.read_csv('test.csv')"
   ]
  },
  {
   "cell_type": "code",
   "execution_count": 61,
   "metadata": {},
   "outputs": [],
   "source": [
    "mapping = {'no':0,'yes':1}\n",
    "\n",
    "# edjefe, edjefa, dependancy\n",
    "\n",
    "test_dataset['edjefe'] = test_dataset['edjefe'].replace(mapping)\n",
    "test_dataset['edjefa'] = test_dataset['edjefa'].replace(mapping)\n",
    "test_dataset['dependency'] = test_dataset['dependency'].replace(mapping).astype(np.float64)\n",
    "\n"
   ]
  },
  {
   "cell_type": "code",
   "execution_count": 62,
   "metadata": {},
   "outputs": [
    {
     "data": {
      "text/plain": [
       "Text(0.5, 1.0, 'NaN Test Distribution Based On Ownership Type')"
      ]
     },
     "execution_count": 62,
     "metadata": {},
     "output_type": "execute_result"
    },
    {
     "data": {
      "image/png": "[encoded data removed]",
      "text/plain": [
       "<Figure size 360x360 with 1 Axes>"
      ]
     },
     "metadata": {
      "needs_background": "light"
     },
     "output_type": "display_data"
    }
   ],
   "source": [
    "#ownership_columns = ['tipovivi1','tipovivi2','tipovivi3','tipovivi4','tipovivi5']\n",
    "test_dataset.loc[test_dataset['v2a1'].isnull(), ownership_columns].sum().plot.bar(figsize=(5,5))\n",
    "plt.title('NaN Test Distribution Based On Ownership Type')"
   ]
  },
  {
   "cell_type": "markdown",
   "metadata": {},
   "source": [
    "#### Null Value Replacement"
   ]
  },
  {
   "cell_type": "code",
   "execution_count": 63,
   "metadata": {},
   "outputs": [
    {
     "data": {
      "text/plain": [
       "Series([], dtype: int64)"
      ]
     },
     "execution_count": 63,
     "metadata": {},
     "output_type": "execute_result"
    }
   ],
   "source": [
    "# Replacing Null values\n",
    "test_dataset['v2a1'].fillna(value=0, inplace=True)\n",
    "test_dataset['v18q1'].fillna(value=0, inplace=True)\n",
    "test_dataset['rez_esc'].fillna(value=0, inplace=True)\n",
    "test_dataset['meaneduc'].fillna(value=0, inplace=True)\n",
    "test_dataset['SQBmeaned'].fillna(value=0, inplace=True)\n",
    "test_nulls_count = test_dataset.isnull().sum()\n",
    "test_nulls_count[test_nulls_count>0]\n"
   ]
  },
  {
   "cell_type": "markdown",
   "metadata": {},
   "source": [
    "#### Dropping Test columns based on our analysis of Training Data"
   ]
  },
  {
   "cell_type": "code",
   "execution_count": 64,
   "metadata": {},
   "outputs": [
    {
     "data": {
      "text/plain": [
       "(23856, 126)"
      ]
     },
     "execution_count": 64,
     "metadata": {},
     "output_type": "execute_result"
    }
   ],
   "source": [
    "test_drop_columns = ['SQBescolari', 'SQBage', 'SQBhogar_total', 'SQBedjefe', \n",
    "                    'SQBhogar_nin', 'SQBovercrowding', 'SQBdependency', 'SQBmeaned',\n",
    "                     'agesq','area2', 'female','tamhog', 'hogar_total', 'r4t3', 'Id', 'idhogar']\n",
    "test_dataset.drop(columns=test_drop_columns, inplace=True)\n",
    "test_dataset.shape"
   ]
  },
  {
   "cell_type": "markdown",
   "metadata": {},
   "source": [
    "#### Prediction On Test Data"
   ]
  },
  {
   "cell_type": "code",
   "execution_count": 65,
   "metadata": {},
   "outputs": [
    {
     "data": {
      "text/plain": [
       "array([4, 4, 4, ..., 4, 4, 2], dtype=int64)"
      ]
     },
     "execution_count": 65,
     "metadata": {},
     "output_type": "execute_result"
    }
   ],
   "source": [
    "# K Fold model prediction\n",
    "test_data_prediction_kfold = RF_classifier_kfold.predict(test_dataset)\n",
    "test_data_prediction_kfold"
   ]
  },
  {
   "cell_type": "code",
   "execution_count": null,
   "metadata": {},
   "outputs": [],
   "source": []
  }
 ],
 "metadata": {
  "kernelspec": {
   "display_name": "Python 3",
   "language": "python",
   "name": "python3"
  },
  "language_info": {
   "codemirror_mode": {
    "name": "ipython",
    "version": 3
   },
   "file_extension": ".py",
   "mimetype": "text/x-python",
   "name": "python",
   "nbconvert_exporter": "python",
   "pygments_lexer": "ipython3",
   "version": "3.8.5"
  }
 },
 "nbformat": 4,
 "nbformat_minor": 4
}
